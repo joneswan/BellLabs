{
 "cells": [
  {
   "cell_type": "markdown",
   "metadata": {},
   "source": [
    "Pull the repository\n",
    "\n",
    "```\n",
    "docker pull c12esolutions/cortex-certifai-prod-hsbc:0eb4412\n",
    "docker pull c12esolutions/cortex-certifai-prod-hsbc:model_server\n",
    "```"
   ]
  },
  {
   "cell_type": "markdown",
   "metadata": {},
   "source": [
    "Docker login\n",
    "\n",
    "```\n",
    "docker login --username joneswanhsbc --password DC#Efv4rGB%T\n",
    "```\n",
    "\n",
    "```\n",
    "cat ~/my_password.txt | docker login --username foo --password-stdin\n",
    "```"
   ]
  }
 ],
 "metadata": {
  "kernelspec": {
   "display_name": "Python 3",
   "language": "python",
   "name": "python3"
  },
  "language_info": {
   "codemirror_mode": {
    "name": "ipython",
    "version": 3
   },
   "file_extension": ".py",
   "mimetype": "text/x-python",
   "name": "python",
   "nbconvert_exporter": "python",
   "pygments_lexer": "ipython3",
   "version": "3.7.3"
  }
 },
 "nbformat": 4,
 "nbformat_minor": 4
}

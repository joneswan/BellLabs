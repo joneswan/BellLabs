{
 "cells": [
  {
   "cell_type": "code",
   "execution_count": null,
   "metadata": {
    "collapsed": true
   },
   "outputs": [],
   "source": [
    "import talib\n",
    "import numpy as np\n",
    "import pandas as pd\n",
    "\n",
    "def initialize(context):\n",
    "    context.stocks = symbols('FB')\n",
    "    context.pct_per_stock = 1.0 / len(context.stocks)\n",
    "    context.LOW_RSI = 30\n",
    "    context.HIGH_RSI = 70\n",
    "    \n",
    "    set_benchmark(sid(42950))  \n",
    "    \n",
    "def handle_data(context, data):\n",
    "    prices = data.history(context.stocks, 'price', 40, '1d')\n",
    "\n",
    "    rsis = {}\n",
    "    \n",
    "    for stock in context.stocks:\n",
    "        rsi = talib.RSI(prices[stock], timeperiod=14)[-1]\n",
    "        rsis[stock] = rsi\n",
    "        \n",
    "        current_position = context.portfolio.positions[stock].amount\n",
    "        \n",
    "        if rsi > context.HIGH_RSI and current_position > 0 and data.can_trade(stock):\n",
    "            order_target(stock, 0)\n",
    "\n",
    "        elif rsi < context.LOW_RSI and current_position == 0 and data.can_trade(stock):\n",
    "            order_target_percent(stock, context.pct_per_stock)\n",
    "\n",
    "    record(FB_rsi=rsis[symbol('FB')])"
   ]
  }
 ],
 "metadata": {
  "anaconda-cloud": {},
  "kernelspec": {
   "display_name": "Python [conda root]",
   "language": "python",
   "name": "conda-root-py"
  },
  "language_info": {
   "codemirror_mode": {
    "name": "ipython",
    "version": 2
   },
   "file_extension": ".py",
   "mimetype": "text/x-python",
   "name": "python",
   "nbconvert_exporter": "python",
   "pygments_lexer": "ipython2",
   "version": "2.7.12"
  }
 },
 "nbformat": 4,
 "nbformat_minor": 1
}
